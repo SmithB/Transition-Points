{
 "cells": [
  {
   "cell_type": "code",
   "execution_count": null,
   "id": "7474e0a5-d483-43af-88e8-7775eff9fa26",
   "metadata": {},
   "outputs": [],
   "source": [
    "import geopandas as gpd\n",
    "import numpy as np\n",
    "import shapely \n",
    "import matplotlib.pyplot as plt\n",
    "import re\n",
    "import glob\n",
    "import os\n",
    "%matplotlib widget"
   ]
  },
  {
   "cell_type": "code",
   "execution_count": null,
   "id": "987e8c16-428a-49b4-ad5f-cf3bfde8380b",
   "metadata": {},
   "outputs": [],
   "source": []
  },
  {
   "cell_type": "code",
   "execution_count": null,
   "id": "d565aa57-5a5c-4809-a8b7-752d4cd29097",
   "metadata": {},
   "outputs": [],
   "source": [
    "SH=shapely.Polygon(np.c_[np.array([-180, 180, 180, -180]), np.array([-89, -89, -60,-60])])\n",
    "\n",
    "track_re = re.compile('IS2_RGT_(\\d+)_.*AA.kml')\n",
    "tracks={'new':{}, 'old':{}}\n",
    "for track_file in sorted(glob.glob('IS2_RGT*AA.kml')):\n",
    "    print('----')\n",
    "    print(track_file)\n",
    "    layer_name = [name for name in gpd.list_layers(track_file).name if '.kml' in name][0]\n",
    "    track=track_re.search(track_file).group(1)\n",
    "    print(layer_name)\n",
    "    tracks['new'][track]=gpd.read_file(track_file, layer=layer_name).set_crs(4326).clip(SH).to_crs(3031)\n",
    "    old_track_file=glob.glob(f'assets/IS2_RGTs_cycle12_date_time/IS2_RGT_{track}*.kml')[0]\n",
    "    layer_name = [name for name in gpd.list_layers(old_track_file).name if '.kml' in name][0]\n",
    "    tracks['old'][track]=gpd.read_file(old_track_file, layer=layer_name).set_crs(4326).clip(SH).to_crs(3031)\n",
    "    print(old_track_file)"
   ]
  },
  {
   "cell_type": "code",
   "execution_count": null,
   "id": "d7f006e6-e315-4ef1-ac0c-94e7114e9110",
   "metadata": {},
   "outputs": [],
   "source": [
    "save_file='AA_ TestRGTs_RGT_transition_locations_V2.0.csv'\n",
    "x_points=gpd.read_file(save_file)\n",
    "for field in ['rgt','cycle','trans_type']:\n",
    "    x_points[field]=[*map(int, x_points[field])]\n",
    "for field in ['lon_req','lat_req']:\n",
    "    x_points[field]=[*map(float, x_points[field])]\n",
    "x_points['geometry'] = [shapely.Point([lon, lat]) for lon, lat in zip(x_points['lon_req'], x_points['lat_req'])]\n",
    "x_points=gpd.GeoDataFrame(x_points)\n",
    "x_points=x_points.set_crs(4326)\n",
    "x_points=x_points.cx[:, -90:-50]\n",
    "x_points=x_points.to_crs(3031)"
   ]
  },
  {
   "cell_type": "code",
   "execution_count": null,
   "id": "736674d9-9c76-428c-8df6-bd4ac913bf5a",
   "metadata": {},
   "outputs": [],
   "source": [
    "lat_dist_ot={}\n",
    "\n",
    "for track in tracks['new']:\n",
    "    geom_old=tracks['old'][track].geometry[0]\n",
    "    geom_new=tracks['new'][track].geometry[0]\n",
    "    geom_ll = tracks['new'][track].to_crs(4326).geometry[0]\n",
    "    lat_dist_ot[track]=[]\n",
    "    for xy, ll in zip(geom_new.coords, geom_ll.coords):\n",
    "        pt = shapely.Point(xy)\n",
    "        lat_dist_ot[track] += [[ll[1], geom_old.line_locate_point(pt),  geom_old.distance(pt)]]\n",
    "    lat_dist_ot[track] = np.concatenate([lat_dist_ot[track]], axis=1)"
   ]
  },
  {
   "cell_type": "code",
   "execution_count": null,
   "id": "534734c8-ff20-456a-8505-bff3fefd8266",
   "metadata": {},
   "outputs": [],
   "source": []
  },
  {
   "cell_type": "code",
   "execution_count": null,
   "id": "2368e29e-9f43-445b-85c7-567fc5ecd5dd",
   "metadata": {},
   "outputs": [],
   "source": [
    "plt.figure()\n",
    "for track in tracks['new'].keys():\n",
    "    print(track)\n",
    "    geom_old=tracks['old'][track].geometry[0]\n",
    "    geom_new=tracks['new'][track].geometry[0]\n",
    "\n",
    "    hl = plt.plot(*np.array(geom_old.coords)[:, 0:2].T,'--', label=track, linewidth=3)\n",
    "    this_color=hl[0].get_color()\n",
    "    plt.plot(*np.array(geom_new.coords)[:, 0:2].T, color=this_color, marker='.', label=track+' shifted')\n",
    "\n",
    "    i_xp = x_points.rgt==int(track)\n",
    "    if np.any(i_xp):\n",
    "        temp= x_points[i_xp]\n",
    "        plt.plot(temp.geometry.x, temp.geometry.y,'*', color=this_color, markersize=12)\n",
    "    \n",
    "plt.legend()\n",
    "plt.gca().set_aspect(1)"
   ]
  },
  {
   "cell_type": "code",
   "execution_count": null,
   "id": "aa24dd2c-a497-4a9f-a308-4d66655ae978",
   "metadata": {},
   "outputs": [],
   "source": [
    "temp= x_points[i_xp].to_crs(3031)\n",
    "temp"
   ]
  },
  {
   "cell_type": "code",
   "execution_count": null,
   "id": "0a3bb010-5d15-4771-95bb-c90a503b6be0",
   "metadata": {},
   "outputs": [],
   "source": [
    "plt.figure()\n",
    "for track, this_ldo in lat_dist_ot.items():\n",
    "    plt.plot(this_ldo[:,1]/1000, this_ldo[:,2], label=track, marker='.')\n",
    "plt.legend()\n",
    "plt.gca().set_xlabel('distance along track, km')\n",
    "plt.gca().set_ylabel('off-tack offset, m')"
   ]
  },
  {
   "cell_type": "code",
   "execution_count": null,
   "id": "3d9f1196-3443-4ffa-8b38-e6a666bafd34",
   "metadata": {},
   "outputs": [],
   "source": [
    "# send Christine the 200-km buffered Antarctica\n",
    "# Talk to Tim about why there are different offsets on the tracks\n",
    "\n"
   ]
  },
  {
   "cell_type": "code",
   "execution_count": null,
   "id": "e6fcc9cd-76e5-43f6-a7e8-b5d031e7b0a4",
   "metadata": {},
   "outputs": [],
   "source": [
    "plt.figure()\n",
    "for track, this_ldo in lat_dist_ot.items():\n",
    "    plt.plot(this_ldo[:,0], this_ldo[:,2], label=track, marker='.')\n",
    "plt.legend()\n",
    "plt.gca().set_xlabel('latitude, ºN')\n",
    "plt.gca().set_ylabel('off-tack offset, m')"
   ]
  },
  {
   "cell_type": "code",
   "execution_count": null,
   "id": "079c68e3-87da-4084-9fc8-ff4f2400954a",
   "metadata": {},
   "outputs": [],
   "source": [
    "plt.figure()\n",
    "for track, this_ldo in lat_dist_ot.items():\n",
    "    plt.plot(this_ldo[:,0], this_ldo[:,2]/np.cos(this_ldo[:,0]*np.pi/180), label=track, marker='.')\n",
    "plt.legend()\n",
    "plt.gca().set_xlabel('latitude, ºN')\n",
    "plt.gca().set_ylabel('off-tack offset/cos(lat), m')"
   ]
  },
  {
   "cell_type": "code",
   "execution_count": null,
   "id": "c1b20056-7225-4ecb-9c5c-358db0b8abac",
   "metadata": {},
   "outputs": [],
   "source": [
    "3441/np.cos(62*np.pi/180)"
   ]
  },
  {
   "cell_type": "code",
   "execution_count": null,
   "id": "73633ffa-3b54-4a99-bf54-8ddda2b9b16e",
   "metadata": {},
   "outputs": [],
   "source": [
    "plt.figure()\n",
    "lat=np.arange(-88, -59)\n",
    "plt.plot(lat, np.cos(lat*np.pi/180))"
   ]
  },
  {
   "cell_type": "code",
   "execution_count": null,
   "id": "39f76d3b-7692-406f-ba6b-1579b317eb54",
   "metadata": {},
   "outputs": [],
   "source": [
    "! ls -lt *.csv"
   ]
  },
  {
   "cell_type": "code",
   "execution_count": null,
   "id": "5236d983-ced9-4a6a-a1a5-9b1017b4cd7a",
   "metadata": {},
   "outputs": [],
   "source": []
  },
  {
   "cell_type": "code",
   "execution_count": null,
   "id": "b336a6d1-6d55-4a1d-9da2-ac24426320d1",
   "metadata": {},
   "outputs": [],
   "source": [
    "x_points"
   ]
  },
  {
   "cell_type": "code",
   "execution_count": null,
   "id": "5b74f113-d2ad-46f1-96a8-61ef57efea0d",
   "metadata": {},
   "outputs": [],
   "source": []
  },
  {
   "cell_type": "code",
   "execution_count": null,
   "id": "2c4e38cd-be30-4423-8299-4c922469d1fa",
   "metadata": {},
   "outputs": [],
   "source": []
  },
  {
   "cell_type": "code",
   "execution_count": null,
   "id": "12a6301b-a06a-4e39-bb87-ea9c98ccb900",
   "metadata": {},
   "outputs": [],
   "source": []
  },
  {
   "cell_type": "code",
   "execution_count": null,
   "id": "4f18551a-6341-4e83-9ea2-f5c8988f6acc",
   "metadata": {},
   "outputs": [],
   "source": [
    "plt.figure()\n",
    "plt.plot(x_points.geometry.x, x_points.geometry.y,'.')"
   ]
  },
  {
   "cell_type": "code",
   "execution_count": null,
   "id": "366a58e1-1318-44e7-8e4e-717d948aaf2f",
   "metadata": {},
   "outputs": [],
   "source": [
    "x_points[x_points.rgt==443+2*442]"
   ]
  },
  {
   "cell_type": "code",
   "execution_count": null,
   "id": "2df85e25-5889-4171-9eed-d4c0cc9b4ce8",
   "metadata": {},
   "outputs": [],
   "source": []
  }
 ],
 "metadata": {
  "kernelspec": {
   "display_name": "devel",
   "language": "python",
   "name": "devel"
  },
  "language_info": {
   "codemirror_mode": {
    "name": "ipython",
    "version": 3
   },
   "file_extension": ".py",
   "mimetype": "text/x-python",
   "name": "python",
   "nbconvert_exporter": "python",
   "pygments_lexer": "ipython3",
   "version": "3.12.8"
  }
 },
 "nbformat": 4,
 "nbformat_minor": 5
}
