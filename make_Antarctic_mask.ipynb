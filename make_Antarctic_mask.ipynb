{
 "cells": [
  {
   "cell_type": "code",
   "execution_count": null,
   "id": "31d947bd-4d94-41dc-9de7-dbd1faf227a2",
   "metadata": {},
   "outputs": [],
   "source": [
    "import numpy as np\n",
    "import matplotlib.pyplot as plt\n",
    "import geopandas as gpd\n",
    "import re\n",
    "import shapely\n",
    "import shapely.plotting"
   ]
  },
  {
   "cell_type": "code",
   "execution_count": null,
   "id": "3b725232-0c4a-417a-8fdb-5eec5c197f91",
   "metadata": {},
   "outputs": [],
   "source": [
    "\n",
    "#You'll need to download the geopkg version of the Natural Earth dataset:\n",
    "# https://www.naturalearthdata.com/http//www.naturalearthdata.com/download/50m/physical/50m_physical.zip\n",
    "\n",
    "land=gpd.read_file('/Volumes/ice1/ben/NaturalEarth/packages/natural_earth_vector.gpkg', layer = 'ne_50m_land')"
   ]
  },
  {
   "cell_type": "code",
   "execution_count": null,
   "id": "5f598fcc-a17f-46bd-afe9-2d136dc187c0",
   "metadata": {},
   "outputs": [],
   "source": [
    "GL_clip = gpd.read_file('assets/GL_offpointing.kml')\n",
    "GL_clip.geometry[0]\n",
    "land_GL = land.clip(GL_clip.geometry[0]).set_crs(4326).to_crs(3857)"
   ]
  },
  {
   "cell_type": "code",
   "execution_count": null,
   "id": "79b38f10-35f5-47f1-ba86-41519907a5b7",
   "metadata": {},
   "outputs": [],
   "source": [
    "plt.figure()\n",
    "for geom in land_GL.geometry:\n",
    "    shapely.plotting.plot_polygon(geom, add_points=False)"
   ]
  },
  {
   "cell_type": "code",
   "execution_count": null,
   "id": "cc5c00f7-f380-493d-b92d-e14c62462e60",
   "metadata": {},
   "outputs": [],
   "source": [
    "land_s=land.cx[:, :-60]"
   ]
  },
  {
   "cell_type": "code",
   "execution_count": null,
   "id": "5d8541dc-e48c-4d29-ac80-f13d4a62171f",
   "metadata": {},
   "outputs": [],
   "source": [
    "land_s"
   ]
  },
  {
   "cell_type": "code",
   "execution_count": null,
   "id": "85efa718-9f03-4dd6-a135-65bc79ff118c",
   "metadata": {},
   "outputs": [],
   "source": [
    "land_s_3857=land_s.to_crs(3857)"
   ]
  },
  {
   "cell_type": "code",
   "execution_count": null,
   "id": "cff45f24-e0da-4d47-ba6f-a158cc1a6cf8",
   "metadata": {},
   "outputs": [],
   "source": [
    "plt.figure()\n",
    "for jj in land_s.geometry:\n",
    "    plt.plot(*np.array(jj.exterior.coords).T, marker='.')"
   ]
  },
  {
   "cell_type": "code",
   "execution_count": null,
   "id": "97eb9c9a-cc0c-4176-a028-3e03e012d7e9",
   "metadata": {},
   "outputs": [],
   "source": [
    "land_AA = shapely.unary_union(land_s_3857.geometry)"
   ]
  },
  {
   "cell_type": "code",
   "execution_count": null,
   "id": "f302bfa1-575e-4647-9224-6ceaf71cfdf0",
   "metadata": {},
   "outputs": [],
   "source": [
    "shelf_AA = shapely.unary_union(gpd.read_file('/Volumes/ice1/ben/NaturalEarth/packages/natural_earth_vector.gpkg', layer = 'ne_50m_antarctic_ice_shelves_polys').to_crs(3857).geometry)"
   ]
  },
  {
   "cell_type": "code",
   "execution_count": null,
   "id": "e0dce7e2-64ea-4da6-9cdc-90540cd0aa40",
   "metadata": {},
   "outputs": [],
   "source": [
    "shelf_AA"
   ]
  },
  {
   "cell_type": "code",
   "execution_count": null,
   "id": "4edea732-d154-4c24-a9e6-609c26ee99f4",
   "metadata": {},
   "outputs": [],
   "source": [
    "import pyproj\n",
    "bds = [np.array([-179.9999, 179.9999]),  np.array([-89, -60])]\n",
    "\n",
    "to_wm = pyproj.Transformer.from_crs(4326, 3857)\n",
    "clip_poly = shapely.Polygon(np.c_[to_wm.transform(*np.c_[bds[1][[0, 0, 1, 1, 0]], bds[0][[0, 1, 1, 0, 0]]].T)])"
   ]
  },
  {
   "cell_type": "code",
   "execution_count": null,
   "id": "10f30619-2cce-43ab-8a5e-555a8790f047",
   "metadata": {},
   "outputs": [],
   "source": [
    "\n",
    "AA=shapely.unary_union([land_AA, shelf_AA]).buffer(1000)"
   ]
  },
  {
   "cell_type": "code",
   "execution_count": null,
   "id": "dc78aaa5-40a2-4bb9-b071-66b0c3ea9c03",
   "metadata": {},
   "outputs": [],
   "source": [
    "for dist, name in zip([10e3, 50e3, 100e3, 200e3, 500e3, 1000e3], ['10km','50km','100km', '200km', '500km','1000km']):\n",
    "\n",
    "    AA_buf = AA.buffer(-20000).buffer(20000).buffer(dist).intersection(clip_poly)\n",
    "    temp=gpd.GeoDataFrame({'name':['Antarctica'], 'geometry':[AA_buf]}).set_crs(3857).to_crs(4326)\n",
    "    with open(f'assets/Antarctica_{name}.geojson','w') as fh:\n",
    "        fh.write(temp.to_json())"
   ]
  },
  {
   "cell_type": "code",
   "execution_count": null,
   "id": "a16f8dac-008f-44f0-8438-31832849b9c6",
   "metadata": {},
   "outputs": [],
   "source": [
    "! ls assets"
   ]
  },
  {
   "cell_type": "code",
   "execution_count": null,
   "id": "bffbd990-effb-4c78-baaf-e73aa6fefb12",
   "metadata": {},
   "outputs": [],
   "source": [
    "test=gpd.read_file('assets/Antarctica_10km.geojson')"
   ]
  },
  {
   "cell_type": "code",
   "execution_count": null,
   "id": "789348e4-b969-4164-8810-57b94fa6dc25",
   "metadata": {},
   "outputs": [],
   "source": []
  },
  {
   "cell_type": "code",
   "execution_count": null,
   "id": "300741e8-39dd-49b5-8cf4-c57cab4ea63d",
   "metadata": {},
   "outputs": [],
   "source": [
    "plt.figure()\n",
    "colors=['r','orange','gold','green','blue','magenta']\n",
    "count=0\n",
    "for dist, name, color in zip([10e3, 50e3, 100e3, 200e3, 500e3, 1000e3], ['10km','50km','100km', '200km', '500km','1000km'], colors):\n",
    "    print(\"*\"*50)\n",
    "    print((dist/1000, name))\n",
    "    AA_buf = AA.buffer(-20000).buffer(20000).buffer(dist).intersection(clip_poly)\n",
    "    print(AA_buf.area)\n",
    "    GL_buf = land_GL.buffer(dist)\n",
    "    geom_dict ={'name':['Antarctica','Greenland'],\n",
    "                'geometry':[AA_buf, shapely.MultiPolygon(GL_buf.geometry)]}\n",
    "    temp=None\n",
    "    temp=gpd.GeoDataFrame(geom_dict).set_crs(3857).to_crs(4326)\n",
    "    print(temp.geometry[0].area)\n",
    "    out_file=f'/Antarctica_Greenland_{name}.geojson'\n",
    "    label=out_file\n",
    "    if hasattr(AA_buf, 'geoms'):\n",
    "        for geom in AA_buf.geoms:\n",
    "            plt.plot(*np.array(geom.exterior.coords).T,marker='.', label=label, color=color)\n",
    "            label=None\n",
    "    else:\n",
    "        plt.plot(*np.array(AA_buf.exterior.coords).T,marker='.', label=out_file, color=color)\n",
    "    print(out_file)\n",
    "    with open(f'assets/'+out_file,'w') as fh:\n",
    "        fh.write(temp.to_json())\n",
    "plt.legend()"
   ]
  },
  {
   "cell_type": "code",
   "execution_count": null,
   "id": "a3a90355-b3e8-4d48-a055-d50764703326",
   "metadata": {},
   "outputs": [],
   "source": [
    "np.diff(plt.gca().get_ylim())/1000"
   ]
  },
  {
   "cell_type": "code",
   "execution_count": null,
   "id": "5700708b-3f3a-497f-b7ae-944b83c747b8",
   "metadata": {},
   "outputs": [],
   "source": []
  },
  {
   "cell_type": "code",
   "execution_count": null,
   "id": "97fc1296-c90f-4a4d-b2f0-d7d623ef9e3c",
   "metadata": {},
   "outputs": [],
   "source": []
  }
 ],
 "metadata": {
  "kernelspec": {
   "display_name": "transition-points",
   "language": "python",
   "name": "transition-points"
  },
  "language_info": {
   "codemirror_mode": {
    "name": "ipython",
    "version": 3
   },
   "file_extension": ".py",
   "mimetype": "text/x-python",
   "name": "python",
   "nbconvert_exporter": "python",
   "pygments_lexer": "ipython3",
   "version": "3.13.5"
  }
 },
 "nbformat": 4,
 "nbformat_minor": 5
}
